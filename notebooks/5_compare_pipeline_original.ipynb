{
 "cells": [
  {
   "cell_type": "markdown",
   "id": "congressional-arizona",
   "metadata": {},
   "source": [
    "# Get score on new pipeline"
   ]
  },
  {
   "cell_type": "markdown",
   "id": "sudden-routine",
   "metadata": {},
   "source": [
    "## Import packages"
   ]
  },
  {
   "cell_type": "code",
   "execution_count": 1,
   "id": "resistant-flooring",
   "metadata": {},
   "outputs": [],
   "source": [
    "%load_ext autoreload\n",
    "%autoreload 2"
   ]
  },
  {
   "cell_type": "code",
   "execution_count": 2,
   "id": "painted-mailing",
   "metadata": {},
   "outputs": [],
   "source": [
    "from dyslexia.app import get_results\n",
    "from dyslexia.ocr import extract_text_from_image\n",
    "from dyslexia.io import load_image_from_string\n",
    "\n",
    "import time\n",
    "import gc\n",
    "from IPython.display import display\n",
    "\n",
    "import cv2\n",
    "import numpy as np\n",
    "import matplotlib.pyplot as plt\n",
    "import jiwer\n",
    "import pandas as pd\n",
    "import pickle\n",
    "import re"
   ]
  },
  {
   "cell_type": "code",
   "execution_count": 3,
   "id": "modern-juice",
   "metadata": {},
   "outputs": [
    {
     "name": "stdout",
     "output_type": "stream",
     "text": [
      "env: TESSDATA_PREFIX=/usr/share/tesseract-ocr/4.00/tessdata/\n"
     ]
    }
   ],
   "source": [
    "%env TESSDATA_PREFIX /usr/share/tesseract-ocr/4.00/tessdata/"
   ]
  },
  {
   "cell_type": "markdown",
   "id": "aggregate-latex",
   "metadata": {},
   "source": [
    "## Score \"Dictée\" files"
   ]
  },
  {
   "cell_type": "code",
   "execution_count": 4,
   "id": "fifteen-protocol",
   "metadata": {},
   "outputs": [],
   "source": [
    "def compare_score(fpath, truth_path, show_txt=True):\n",
    "    with open(truth_path, 'r') as f:\n",
    "        truth = f.read()\n",
    "\n",
    "    truth = re.sub(r'\\n+', ' ', truth).strip()\n",
    "    truth = re.sub(r' +', ' ', truth).strip()\n",
    "    \n",
    "    if show_txt:\n",
    "        print('======== TRUTH =========')\n",
    "        print(truth)\n",
    "    \n",
    "    res = get_results(fpath)\n",
    "    \n",
    "    if 'error' in res:\n",
    "        print(res)\n",
    "    else:\n",
    "        txt = '\\n'.join(res['paragraphs'])\n",
    "        txt = re.sub(r'\\n+', ' ', txt).strip()\n",
    "        txt = re.sub(r' +', ' ', txt).strip()\n",
    "        \n",
    "        score = dict(jiwer.compute_measures(truth=truth, hypothesis=txt))\n",
    "        score_algo = pd.Series(score).to_frame().T\n",
    "\n",
    "        if show_txt:\n",
    "            print()\n",
    "            print('======== ALGO =========')\n",
    "            print(txt)\n",
    "\n",
    "        display(score_algo)\n",
    "    \n",
    "    \n",
    "    img = load_image_from_string(fpath)\n",
    "    txt = extract_text_from_image(img)\n",
    "    txt = re.sub(r'\\n+', ' ', txt).strip()\n",
    "    txt = re.sub(r' +', ' ', txt).strip()\n",
    "        \n",
    "    if txt != '':\n",
    "        if show_txt:\n",
    "            print()\n",
    "            print('======== ORIG =========')\n",
    "            print(txt)\n",
    "            \n",
    "        score = dict(jiwer.compute_measures(truth=truth, hypothesis=txt))\n",
    "        score_orig = pd.Series(score).to_frame().T\n",
    "        display(score_orig)"
   ]
  },
  {
   "cell_type": "code",
   "execution_count": 5,
   "id": "reduced-flash",
   "metadata": {},
   "outputs": [
    {
     "name": "stdout",
     "output_type": "stream",
     "text": [
      "======== TRUTH =========\n",
      "Dictée: Le petit chaperon rouge La grand-mère du petit chaperon rouge était très malade. Elle demanda à sa petite-fille, avec qui elle vivait, de lui apporter quelque chose pour la guérir. Elle l'avertit, cependant, de faire attention au Grand Méchant Loup qui rodait dans les bois. Le loup faisait peut aux villageois des alentours depuis des années. Jusqu'à présent, aucun des chasseurs n'avait réussi à l'abattre. Le petit chaperon rouge se mit donc en route pour aider sa grand-mère. Elle redressa son capuchon et le plaça sur sa tête. Elle s'engouffra dans les bois rapidement. C'est là qu'elle entendit un bruit, Elle se retourna mais ne vit rien. Quand elle rentra avec le remède, sa grand-mère était au lit. Elle lui demanda d'approcher. Le petit chaperon rouge remarqua qu'elle avait de grandes dents et de grandes oreilles. Sa voix était bien plus grave. Elle se rendit alors compte que ce n'était pas sa grand-mère mais bien le loup qui s'était déguisé. Elle sortit en courant de la maison. Heureusement, un chasseur du village l'avait accompagnée jusqu'à la maison. Quand il vit le loup, il tira avec son fusil et le petit chaperon rouge fut en sécurité.\n",
      "\n",
      "======== ALGO =========\n",
      "Dictée: Le petit chaperon rouge La grand-mère du petit chaperon rouge était très malade. Elle demanda à sa petite-fille, avec qui elle vivait, de lui apporter quelque chose pour la guérir. Elle l’avertit, cependant, de faire attention au Grand Méchant Loup qui rodait dans les bois. Le loup faisait peur aux villageois des alentours depuis des années. Jusqu’à présent, aucun des chasseurs n’avait réussi à l’abattre. Le petit chaperon rouge se mit donc en route pour aider sa grand-mère. Elle redressa son capuchon et le plaça sur sa tête. Elle s'engouffra dans les bois rapidement. C’est là qu’elle entendit un bruit. Elle se retourna mais ne vit rien. Quand elle rentra avec le remède, sa grand-mère était au lit. Elle lui demanda d’approcher. Le petit chaperon rouge remarqua qu’elle avait de grandes dents et de grandes oreilles. Sa voix était bien plus grave. Elle se rendit alors compte que ce n’était pas sa grand-mère mais bien le loup qui s’était déguisé. Elle sortit en courant de la maison. Heureusement, un chasseur du village l’avait accompagnée jusqu’à la maison. Quand il vit le loup, il tira avec son fusil et le petit chaperon rouge fut en sécurité.\n"
     ]
    },
    {
     "data": {
      "text/html": [
       "<div>\n",
       "<style scoped>\n",
       "    .dataframe tbody tr th:only-of-type {\n",
       "        vertical-align: middle;\n",
       "    }\n",
       "\n",
       "    .dataframe tbody tr th {\n",
       "        vertical-align: top;\n",
       "    }\n",
       "\n",
       "    .dataframe thead th {\n",
       "        text-align: right;\n",
       "    }\n",
       "</style>\n",
       "<table border=\"1\" class=\"dataframe\">\n",
       "  <thead>\n",
       "    <tr style=\"text-align: right;\">\n",
       "      <th></th>\n",
       "      <th>wer</th>\n",
       "      <th>mer</th>\n",
       "      <th>wil</th>\n",
       "      <th>wip</th>\n",
       "      <th>hits</th>\n",
       "      <th>substitutions</th>\n",
       "      <th>deletions</th>\n",
       "      <th>insertions</th>\n",
       "    </tr>\n",
       "  </thead>\n",
       "  <tbody>\n",
       "    <tr>\n",
       "      <th>0</th>\n",
       "      <td>0.071429</td>\n",
       "      <td>0.071429</td>\n",
       "      <td>0.137755</td>\n",
       "      <td>0.862245</td>\n",
       "      <td>182.0</td>\n",
       "      <td>14.0</td>\n",
       "      <td>0.0</td>\n",
       "      <td>0.0</td>\n",
       "    </tr>\n",
       "  </tbody>\n",
       "</table>\n",
       "</div>"
      ],
      "text/plain": [
       "        wer       mer       wil       wip   hits  substitutions  deletions  \\\n",
       "0  0.071429  0.071429  0.137755  0.862245  182.0           14.0        0.0   \n",
       "\n",
       "   insertions  \n",
       "0         0.0  "
      ]
     },
     "metadata": {},
     "output_type": "display_data"
    },
    {
     "name": "stdout",
     "output_type": "stream",
     "text": [
      "\n",
      "======== ORIG =========\n",
      "Dictée: Le petit chaperon rouge La grand-mère du petit chaperon rouge était très malade. Elle demanda à sa petite-fille, avec qui elle vivait, de lui apporter quelque chose pour la guérir. Elle l’avertit, cependant, de faire attention au Grand Méchant Loup qui rodait dans les bois. Le loup faisait peur aux villageois des alentours depuis des années. Jusqu’à présent, aucun des chasseurs n’avait réussi à l’abattre. Le petit chaperon rouge se mit donc en route pour aider sa grand-mère. Elle redressa son capuchon et le plaça sur sa tête. Elle s'engouffra dans les bois rapidement. C’est là qu’elle entendit un bruit. Elle se retourna mais ne vit rien. Quand elle rentra avec le remède, sa grand-mère était au lit. Elle lui demanda d’approcher. Le petit chaperon rouge remarqua qu’elle avait de grandes dents et de grandes oreilles. Sa voix était bien plus grave. Elle se rendit alors compte que ce n’était pas sa grand-mère mais bien le loup qui s’était déguisé. Elle sortit en courant de la maison. Heureusement, un chasseur du village l’avait accompagnée jusqu’à la maison. Quand il vit le loup, il tira avec son fusil et le petit chaperon rouge fut en sécurité.\n"
     ]
    },
    {
     "data": {
      "text/html": [
       "<div>\n",
       "<style scoped>\n",
       "    .dataframe tbody tr th:only-of-type {\n",
       "        vertical-align: middle;\n",
       "    }\n",
       "\n",
       "    .dataframe tbody tr th {\n",
       "        vertical-align: top;\n",
       "    }\n",
       "\n",
       "    .dataframe thead th {\n",
       "        text-align: right;\n",
       "    }\n",
       "</style>\n",
       "<table border=\"1\" class=\"dataframe\">\n",
       "  <thead>\n",
       "    <tr style=\"text-align: right;\">\n",
       "      <th></th>\n",
       "      <th>wer</th>\n",
       "      <th>mer</th>\n",
       "      <th>wil</th>\n",
       "      <th>wip</th>\n",
       "      <th>hits</th>\n",
       "      <th>substitutions</th>\n",
       "      <th>deletions</th>\n",
       "      <th>insertions</th>\n",
       "    </tr>\n",
       "  </thead>\n",
       "  <tbody>\n",
       "    <tr>\n",
       "      <th>0</th>\n",
       "      <td>0.071429</td>\n",
       "      <td>0.071429</td>\n",
       "      <td>0.137755</td>\n",
       "      <td>0.862245</td>\n",
       "      <td>182.0</td>\n",
       "      <td>14.0</td>\n",
       "      <td>0.0</td>\n",
       "      <td>0.0</td>\n",
       "    </tr>\n",
       "  </tbody>\n",
       "</table>\n",
       "</div>"
      ],
      "text/plain": [
       "        wer       mer       wil       wip   hits  substitutions  deletions  \\\n",
       "0  0.071429  0.071429  0.137755  0.862245  182.0           14.0        0.0   \n",
       "\n",
       "   insertions  \n",
       "0         0.0  "
      ]
     },
     "metadata": {},
     "output_type": "display_data"
    }
   ],
   "source": [
    "dictee_file = '../Exemples/Dictée_ Le petit chaperon rouge.pdf'\n",
    "dictee_truth_path = '../Exemples/truth/dictee.txt'\n",
    "\n",
    "compare_score(dictee_file, dictee_truth_path)"
   ]
  },
  {
   "cell_type": "code",
   "execution_count": 6,
   "id": "muslim-transport",
   "metadata": {},
   "outputs": [
    {
     "name": "stdout",
     "output_type": "stream",
     "text": [
      "======== TRUTH =========\n",
      "La Grèce Antique I. Le théâtre grec Les pièces de théâtre grecque étaient très appréciées dans l'Antiquité. Les Grecs des Temps Anciens appréciaient tout particulièrement les tragédies et le récit des épopées des héros. Les théâtres, où se déroulaients les représentations, avaient une forme particulière en demi-cercle: ce sont les amphithéâtres. Gradins Scène Organisation d'un amphithéâtre II. La société grecque Les grecs ont inventé la démocratie. Chacun est citoyen à partir de sa majorité et peut faire valoir son opinion sur la façon de diriger la cité.\n",
      "\n",
      "======== ALGO =========\n",
      "La Grèce Antique . Le théâtre grec Les pièces de théâtre grecque étaient très appréciées dans l’Antiquité. Les Grecs des Temps Anciens appréciaient tout particulièrement les tragédies et le récit des épopées des héros. Les théâtres, où se déroulaient les représentations, avaient une forme particulière en demi-cercle: ce sont les amphithéâtres. Gradins SS / — ; ( ) \\ / Organisation d’un amphithéâtre I. — La société grecque Les grecs ont inventé la démocratie. Chacun est citoyen à partir de sa majorité et peut faire valoir son opinion sur la façon de diriger la cité.\n"
     ]
    },
    {
     "data": {
      "text/html": [
       "<div>\n",
       "<style scoped>\n",
       "    .dataframe tbody tr th:only-of-type {\n",
       "        vertical-align: middle;\n",
       "    }\n",
       "\n",
       "    .dataframe tbody tr th {\n",
       "        vertical-align: top;\n",
       "    }\n",
       "\n",
       "    .dataframe thead th {\n",
       "        text-align: right;\n",
       "    }\n",
       "</style>\n",
       "<table border=\"1\" class=\"dataframe\">\n",
       "  <thead>\n",
       "    <tr style=\"text-align: right;\">\n",
       "      <th></th>\n",
       "      <th>wer</th>\n",
       "      <th>mer</th>\n",
       "      <th>wil</th>\n",
       "      <th>wip</th>\n",
       "      <th>hits</th>\n",
       "      <th>substitutions</th>\n",
       "      <th>deletions</th>\n",
       "      <th>insertions</th>\n",
       "    </tr>\n",
       "  </thead>\n",
       "  <tbody>\n",
       "    <tr>\n",
       "      <th>0</th>\n",
       "      <td>0.16092</td>\n",
       "      <td>0.147368</td>\n",
       "      <td>0.206171</td>\n",
       "      <td>0.793829</td>\n",
       "      <td>81.0</td>\n",
       "      <td>6.0</td>\n",
       "      <td>0.0</td>\n",
       "      <td>8.0</td>\n",
       "    </tr>\n",
       "  </tbody>\n",
       "</table>\n",
       "</div>"
      ],
      "text/plain": [
       "       wer       mer       wil       wip  hits  substitutions  deletions  \\\n",
       "0  0.16092  0.147368  0.206171  0.793829  81.0            6.0        0.0   \n",
       "\n",
       "   insertions  \n",
       "0         8.0  "
      ]
     },
     "metadata": {},
     "output_type": "display_data"
    },
    {
     "name": "stdout",
     "output_type": "stream",
     "text": [
      "\n",
      "======== ORIG =========\n",
      "La Grèce Antique . Le théâtre grec Les pièces de théâtre grecque étaient très appréciées dans l’Antiquité. Les Grecs des Temps Anciens appréciaient tout particulièrement les tragédies et le récit des épopées des héros. Les théâtres, où se déroulaient les représentations, avaient une forme particulière en demi-cercle: ce sont les amphithéâtres. Gradins S < ‘{/ — \\“ \\ / Organisation d’un amphithéâtre I. — La société grecque Les grecs ont inventé la démocratie. Chacun est citoyen à partir de sa majorité et peut faire valoir son opinion sur la façon de diriger la cité.\n"
     ]
    },
    {
     "data": {
      "text/html": [
       "<div>\n",
       "<style scoped>\n",
       "    .dataframe tbody tr th:only-of-type {\n",
       "        vertical-align: middle;\n",
       "    }\n",
       "\n",
       "    .dataframe tbody tr th {\n",
       "        vertical-align: top;\n",
       "    }\n",
       "\n",
       "    .dataframe thead th {\n",
       "        text-align: right;\n",
       "    }\n",
       "</style>\n",
       "<table border=\"1\" class=\"dataframe\">\n",
       "  <thead>\n",
       "    <tr style=\"text-align: right;\">\n",
       "      <th></th>\n",
       "      <th>wer</th>\n",
       "      <th>mer</th>\n",
       "      <th>wil</th>\n",
       "      <th>wip</th>\n",
       "      <th>hits</th>\n",
       "      <th>substitutions</th>\n",
       "      <th>deletions</th>\n",
       "      <th>insertions</th>\n",
       "    </tr>\n",
       "  </thead>\n",
       "  <tbody>\n",
       "    <tr>\n",
       "      <th>0</th>\n",
       "      <td>0.149425</td>\n",
       "      <td>0.138298</td>\n",
       "      <td>0.197726</td>\n",
       "      <td>0.802274</td>\n",
       "      <td>81.0</td>\n",
       "      <td>6.0</td>\n",
       "      <td>0.0</td>\n",
       "      <td>7.0</td>\n",
       "    </tr>\n",
       "  </tbody>\n",
       "</table>\n",
       "</div>"
      ],
      "text/plain": [
       "        wer       mer       wil       wip  hits  substitutions  deletions  \\\n",
       "0  0.149425  0.138298  0.197726  0.802274  81.0            6.0        0.0   \n",
       "\n",
       "   insertions  \n",
       "0         7.0  "
      ]
     },
     "metadata": {},
     "output_type": "display_data"
    }
   ],
   "source": [
    "file = '../Exemples/Histoire-Geo.pdf'\n",
    "truth_path = '../Exemples/truth/hist_geo.txt'\n",
    "\n",
    "compare_df = compare_score(file, truth_path)"
   ]
  },
  {
   "cell_type": "code",
   "execution_count": 7,
   "id": "straight-equivalent",
   "metadata": {},
   "outputs": [
    {
     "name": "stdout",
     "output_type": "stream",
     "text": [
      "======== TRUTH =========\n",
      "Les plantes 1. De quoi est composée la plante? La plante est composée: - d’une partie souterraine qui s’étend (parfois très loin de l’endroit où se trouve la plante en surface), - d’une partie en surface (tige, feuilles,graines,fruits,fleurs) 2. De quoi a besoin la plante? 2.1. Soleil Le soleil permet à la plante de récupérer de l’énergie pour se développer. Sans soleil, elle ne peut pas récolter de l’énergie pour survivre. 2.2. Oxygène Tout comme le soleil, l’oxygène est essentiel pour la survie de la plante. 2.3. Eau L’eau apporte des nutriments (qui sont essentiels à la plante pour rester en bon état). 2.4. Place La partie souterraine de la plante peut prendre beaucoup de place. Si les racines ne peuvent pas aller où elles veulent, la croissance de la plante peut être empêchée\n",
      "\n",
      "======== ALGO =========\n",
      "Les plantes 1. De quoi est composée la plante? La plante est composée: - d’une partie souterraine qui s'étend (parfois très loin de l’endroit où se trouve la plante en surface), - d’une partie en surface (tige, feuilles,graines,fruits,fleurs) 2. De quoi a besoin la plante? 2.1. 2.2. Soleil Le soleil permet à la plante de récupérer de l’énergie pour se développer. Sans soleil, elle ne peut pas récolter de l’énergie pour survivre. Oxygène Tout comme le soleil, l'oxygène est essentiel pour la survie de la plante. L’eau apporte des nutriments (qui sont essentiels à la plante pour rester en bon état). La partie souterraine de la plante peut prendre beaucoup de place. Si les racines ne peuvent pas aller où elles veulent, la croissance de la plante peut être empêchée.\n"
     ]
    },
    {
     "data": {
      "text/html": [
       "<div>\n",
       "<style scoped>\n",
       "    .dataframe tbody tr th:only-of-type {\n",
       "        vertical-align: middle;\n",
       "    }\n",
       "\n",
       "    .dataframe tbody tr th {\n",
       "        vertical-align: top;\n",
       "    }\n",
       "\n",
       "    .dataframe thead th {\n",
       "        text-align: right;\n",
       "    }\n",
       "</style>\n",
       "<table border=\"1\" class=\"dataframe\">\n",
       "  <thead>\n",
       "    <tr style=\"text-align: right;\">\n",
       "      <th></th>\n",
       "      <th>wer</th>\n",
       "      <th>mer</th>\n",
       "      <th>wil</th>\n",
       "      <th>wip</th>\n",
       "      <th>hits</th>\n",
       "      <th>substitutions</th>\n",
       "      <th>deletions</th>\n",
       "      <th>insertions</th>\n",
       "    </tr>\n",
       "  </thead>\n",
       "  <tbody>\n",
       "    <tr>\n",
       "      <th>0</th>\n",
       "      <td>0.067164</td>\n",
       "      <td>0.066667</td>\n",
       "      <td>0.088634</td>\n",
       "      <td>0.911366</td>\n",
       "      <td>126.0</td>\n",
       "      <td>3.0</td>\n",
       "      <td>5.0</td>\n",
       "      <td>1.0</td>\n",
       "    </tr>\n",
       "  </tbody>\n",
       "</table>\n",
       "</div>"
      ],
      "text/plain": [
       "        wer       mer       wil       wip   hits  substitutions  deletions  \\\n",
       "0  0.067164  0.066667  0.088634  0.911366  126.0            3.0        5.0   \n",
       "\n",
       "   insertions  \n",
       "0         1.0  "
      ]
     },
     "metadata": {},
     "output_type": "display_data"
    },
    {
     "name": "stdout",
     "output_type": "stream",
     "text": [
      "\n",
      "======== ORIG =========\n",
      "Les plantes 1. De quoi est composée la plante? La plante est composée: - _ d’une partie souterraine qui s'étend (parfois très loin de l’endroit où se trouve la plante en surface), - _ d’une partie en surface (tige, feuilles,graines,fruits,fleurs) 2. De quoi a besoin la plante? 2.1. 2.2. Soleil Le soleil permet à la plante de récupérer de l’énergie pour se développer. Sans soleil, elle ne peut pas récolter de l’énergie pour survivre. Oxygène Tout comme le soleil, l'oxygène est essentiel pour la survie de la plante. L’eau apporte des nutriments (qui sont essentiels à la plante pour rester en bon état). La partie souterraine de la plante peut prendre beaucoup de place. Si les racines ne peuvent pas aller où elles veulent, la croissance de la plante peut être empêchée.\n"
     ]
    },
    {
     "data": {
      "text/html": [
       "<div>\n",
       "<style scoped>\n",
       "    .dataframe tbody tr th:only-of-type {\n",
       "        vertical-align: middle;\n",
       "    }\n",
       "\n",
       "    .dataframe tbody tr th {\n",
       "        vertical-align: top;\n",
       "    }\n",
       "\n",
       "    .dataframe thead th {\n",
       "        text-align: right;\n",
       "    }\n",
       "</style>\n",
       "<table border=\"1\" class=\"dataframe\">\n",
       "  <thead>\n",
       "    <tr style=\"text-align: right;\">\n",
       "      <th></th>\n",
       "      <th>wer</th>\n",
       "      <th>mer</th>\n",
       "      <th>wil</th>\n",
       "      <th>wip</th>\n",
       "      <th>hits</th>\n",
       "      <th>substitutions</th>\n",
       "      <th>deletions</th>\n",
       "      <th>insertions</th>\n",
       "    </tr>\n",
       "  </thead>\n",
       "  <tbody>\n",
       "    <tr>\n",
       "      <th>0</th>\n",
       "      <td>0.08209</td>\n",
       "      <td>0.080292</td>\n",
       "      <td>0.102442</td>\n",
       "      <td>0.897558</td>\n",
       "      <td>126.0</td>\n",
       "      <td>3.0</td>\n",
       "      <td>5.0</td>\n",
       "      <td>3.0</td>\n",
       "    </tr>\n",
       "  </tbody>\n",
       "</table>\n",
       "</div>"
      ],
      "text/plain": [
       "       wer       mer       wil       wip   hits  substitutions  deletions  \\\n",
       "0  0.08209  0.080292  0.102442  0.897558  126.0            3.0        5.0   \n",
       "\n",
       "   insertions  \n",
       "0         3.0  "
      ]
     },
     "metadata": {},
     "output_type": "display_data"
    }
   ],
   "source": [
    "file = '../Exemples/SVT.pdf'\n",
    "truth_path = '../Exemples/truth/svt.txt'\n",
    "\n",
    "compare_df = compare_score(file, truth_path)"
   ]
  },
  {
   "cell_type": "markdown",
   "id": "swedish-disabled",
   "metadata": {},
   "source": [
    "## Go further"
   ]
  },
  {
   "cell_type": "code",
   "execution_count": 8,
   "id": "facial-trunk",
   "metadata": {},
   "outputs": [],
   "source": [
    "from utils import load_all_files_path\n",
    "\n",
    "subdir_paths, all_files = load_all_files_path()"
   ]
  },
  {
   "cell_type": "code",
   "execution_count": 9,
   "id": "changed-satin",
   "metadata": {},
   "outputs": [],
   "source": [
    "dictee_files = [f for f in all_files if 'Dictee' in f]"
   ]
  },
  {
   "cell_type": "code",
   "execution_count": 10,
   "id": "dangerous-aurora",
   "metadata": {},
   "outputs": [
    {
     "name": "stdout",
     "output_type": "stream",
     "text": [
      "../Exemples/Dictee/IMG_20210329_122324.jpg\n"
     ]
    },
    {
     "data": {
      "text/html": [
       "<div>\n",
       "<style scoped>\n",
       "    .dataframe tbody tr th:only-of-type {\n",
       "        vertical-align: middle;\n",
       "    }\n",
       "\n",
       "    .dataframe tbody tr th {\n",
       "        vertical-align: top;\n",
       "    }\n",
       "\n",
       "    .dataframe thead th {\n",
       "        text-align: right;\n",
       "    }\n",
       "</style>\n",
       "<table border=\"1\" class=\"dataframe\">\n",
       "  <thead>\n",
       "    <tr style=\"text-align: right;\">\n",
       "      <th></th>\n",
       "      <th>wer</th>\n",
       "      <th>mer</th>\n",
       "      <th>wil</th>\n",
       "      <th>wip</th>\n",
       "      <th>hits</th>\n",
       "      <th>substitutions</th>\n",
       "      <th>deletions</th>\n",
       "      <th>insertions</th>\n",
       "    </tr>\n",
       "  </thead>\n",
       "  <tbody>\n",
       "    <tr>\n",
       "      <th>0</th>\n",
       "      <td>0.071429</td>\n",
       "      <td>0.071066</td>\n",
       "      <td>0.132679</td>\n",
       "      <td>0.867321</td>\n",
       "      <td>183.0</td>\n",
       "      <td>13.0</td>\n",
       "      <td>0.0</td>\n",
       "      <td>1.0</td>\n",
       "    </tr>\n",
       "  </tbody>\n",
       "</table>\n",
       "</div>"
      ],
      "text/plain": [
       "        wer       mer       wil       wip   hits  substitutions  deletions  \\\n",
       "0  0.071429  0.071066  0.132679  0.867321  183.0           13.0        0.0   \n",
       "\n",
       "   insertions  \n",
       "0         1.0  "
      ]
     },
     "metadata": {},
     "output_type": "display_data"
    },
    {
     "data": {
      "text/html": [
       "<div>\n",
       "<style scoped>\n",
       "    .dataframe tbody tr th:only-of-type {\n",
       "        vertical-align: middle;\n",
       "    }\n",
       "\n",
       "    .dataframe tbody tr th {\n",
       "        vertical-align: top;\n",
       "    }\n",
       "\n",
       "    .dataframe thead th {\n",
       "        text-align: right;\n",
       "    }\n",
       "</style>\n",
       "<table border=\"1\" class=\"dataframe\">\n",
       "  <thead>\n",
       "    <tr style=\"text-align: right;\">\n",
       "      <th></th>\n",
       "      <th>wer</th>\n",
       "      <th>mer</th>\n",
       "      <th>wil</th>\n",
       "      <th>wip</th>\n",
       "      <th>hits</th>\n",
       "      <th>substitutions</th>\n",
       "      <th>deletions</th>\n",
       "      <th>insertions</th>\n",
       "    </tr>\n",
       "  </thead>\n",
       "  <tbody>\n",
       "    <tr>\n",
       "      <th>0</th>\n",
       "      <td>1.020408</td>\n",
       "      <td>1.0</td>\n",
       "      <td>1.0</td>\n",
       "      <td>0.0</td>\n",
       "      <td>0.0</td>\n",
       "      <td>196.0</td>\n",
       "      <td>0.0</td>\n",
       "      <td>4.0</td>\n",
       "    </tr>\n",
       "  </tbody>\n",
       "</table>\n",
       "</div>"
      ],
      "text/plain": [
       "        wer  mer  wil  wip  hits  substitutions  deletions  insertions\n",
       "0  1.020408  1.0  1.0  0.0   0.0          196.0        0.0         4.0"
      ]
     },
     "metadata": {},
     "output_type": "display_data"
    },
    {
     "name": "stdout",
     "output_type": "stream",
     "text": [
      "==================================\n",
      "../Exemples/Dictee/dictee_example_nb.jpg\n"
     ]
    },
    {
     "data": {
      "text/html": [
       "<div>\n",
       "<style scoped>\n",
       "    .dataframe tbody tr th:only-of-type {\n",
       "        vertical-align: middle;\n",
       "    }\n",
       "\n",
       "    .dataframe tbody tr th {\n",
       "        vertical-align: top;\n",
       "    }\n",
       "\n",
       "    .dataframe thead th {\n",
       "        text-align: right;\n",
       "    }\n",
       "</style>\n",
       "<table border=\"1\" class=\"dataframe\">\n",
       "  <thead>\n",
       "    <tr style=\"text-align: right;\">\n",
       "      <th></th>\n",
       "      <th>wer</th>\n",
       "      <th>mer</th>\n",
       "      <th>wil</th>\n",
       "      <th>wip</th>\n",
       "      <th>hits</th>\n",
       "      <th>substitutions</th>\n",
       "      <th>deletions</th>\n",
       "      <th>insertions</th>\n",
       "    </tr>\n",
       "  </thead>\n",
       "  <tbody>\n",
       "    <tr>\n",
       "      <th>0</th>\n",
       "      <td>0.5</td>\n",
       "      <td>0.497462</td>\n",
       "      <td>0.568922</td>\n",
       "      <td>0.431078</td>\n",
       "      <td>99.0</td>\n",
       "      <td>16.0</td>\n",
       "      <td>81.0</td>\n",
       "      <td>1.0</td>\n",
       "    </tr>\n",
       "  </tbody>\n",
       "</table>\n",
       "</div>"
      ],
      "text/plain": [
       "   wer       mer       wil       wip  hits  substitutions  deletions  \\\n",
       "0  0.5  0.497462  0.568922  0.431078  99.0           16.0       81.0   \n",
       "\n",
       "   insertions  \n",
       "0         1.0  "
      ]
     },
     "metadata": {},
     "output_type": "display_data"
    },
    {
     "data": {
      "text/html": [
       "<div>\n",
       "<style scoped>\n",
       "    .dataframe tbody tr th:only-of-type {\n",
       "        vertical-align: middle;\n",
       "    }\n",
       "\n",
       "    .dataframe tbody tr th {\n",
       "        vertical-align: top;\n",
       "    }\n",
       "\n",
       "    .dataframe thead th {\n",
       "        text-align: right;\n",
       "    }\n",
       "</style>\n",
       "<table border=\"1\" class=\"dataframe\">\n",
       "  <thead>\n",
       "    <tr style=\"text-align: right;\">\n",
       "      <th></th>\n",
       "      <th>wer</th>\n",
       "      <th>mer</th>\n",
       "      <th>wil</th>\n",
       "      <th>wip</th>\n",
       "      <th>hits</th>\n",
       "      <th>substitutions</th>\n",
       "      <th>deletions</th>\n",
       "      <th>insertions</th>\n",
       "    </tr>\n",
       "  </thead>\n",
       "  <tbody>\n",
       "    <tr>\n",
       "      <th>0</th>\n",
       "      <td>0.515306</td>\n",
       "      <td>0.510101</td>\n",
       "      <td>0.571383</td>\n",
       "      <td>0.428617</td>\n",
       "      <td>97.0</td>\n",
       "      <td>13.0</td>\n",
       "      <td>86.0</td>\n",
       "      <td>2.0</td>\n",
       "    </tr>\n",
       "  </tbody>\n",
       "</table>\n",
       "</div>"
      ],
      "text/plain": [
       "        wer       mer       wil       wip  hits  substitutions  deletions  \\\n",
       "0  0.515306  0.510101  0.571383  0.428617  97.0           13.0       86.0   \n",
       "\n",
       "   insertions  \n",
       "0         2.0  "
      ]
     },
     "metadata": {},
     "output_type": "display_data"
    },
    {
     "name": "stdout",
     "output_type": "stream",
     "text": [
      "==================================\n",
      "../Exemples/Dictee/IMG_20210329_122825.jpg\n",
      "{'error': {'code': 'IMAGE_BLURRY', 'message': 'The image sent by the user is considered to be blurry'}}\n",
      "==================================\n",
      "../Exemples/Dictee/IMG_20210329_122839.jpg\n"
     ]
    },
    {
     "data": {
      "text/html": [
       "<div>\n",
       "<style scoped>\n",
       "    .dataframe tbody tr th:only-of-type {\n",
       "        vertical-align: middle;\n",
       "    }\n",
       "\n",
       "    .dataframe tbody tr th {\n",
       "        vertical-align: top;\n",
       "    }\n",
       "\n",
       "    .dataframe thead th {\n",
       "        text-align: right;\n",
       "    }\n",
       "</style>\n",
       "<table border=\"1\" class=\"dataframe\">\n",
       "  <thead>\n",
       "    <tr style=\"text-align: right;\">\n",
       "      <th></th>\n",
       "      <th>wer</th>\n",
       "      <th>mer</th>\n",
       "      <th>wil</th>\n",
       "      <th>wip</th>\n",
       "      <th>hits</th>\n",
       "      <th>substitutions</th>\n",
       "      <th>deletions</th>\n",
       "      <th>insertions</th>\n",
       "    </tr>\n",
       "  </thead>\n",
       "  <tbody>\n",
       "    <tr>\n",
       "      <th>0</th>\n",
       "      <td>0.5</td>\n",
       "      <td>0.497462</td>\n",
       "      <td>0.568922</td>\n",
       "      <td>0.431078</td>\n",
       "      <td>99.0</td>\n",
       "      <td>16.0</td>\n",
       "      <td>81.0</td>\n",
       "      <td>1.0</td>\n",
       "    </tr>\n",
       "  </tbody>\n",
       "</table>\n",
       "</div>"
      ],
      "text/plain": [
       "   wer       mer       wil       wip  hits  substitutions  deletions  \\\n",
       "0  0.5  0.497462  0.568922  0.431078  99.0           16.0       81.0   \n",
       "\n",
       "   insertions  \n",
       "0         1.0  "
      ]
     },
     "metadata": {},
     "output_type": "display_data"
    },
    {
     "data": {
      "text/html": [
       "<div>\n",
       "<style scoped>\n",
       "    .dataframe tbody tr th:only-of-type {\n",
       "        vertical-align: middle;\n",
       "    }\n",
       "\n",
       "    .dataframe tbody tr th {\n",
       "        vertical-align: top;\n",
       "    }\n",
       "\n",
       "    .dataframe thead th {\n",
       "        text-align: right;\n",
       "    }\n",
       "</style>\n",
       "<table border=\"1\" class=\"dataframe\">\n",
       "  <thead>\n",
       "    <tr style=\"text-align: right;\">\n",
       "      <th></th>\n",
       "      <th>wer</th>\n",
       "      <th>mer</th>\n",
       "      <th>wil</th>\n",
       "      <th>wip</th>\n",
       "      <th>hits</th>\n",
       "      <th>substitutions</th>\n",
       "      <th>deletions</th>\n",
       "      <th>insertions</th>\n",
       "    </tr>\n",
       "  </thead>\n",
       "  <tbody>\n",
       "    <tr>\n",
       "      <th>0</th>\n",
       "      <td>0.515306</td>\n",
       "      <td>0.510101</td>\n",
       "      <td>0.571383</td>\n",
       "      <td>0.428617</td>\n",
       "      <td>97.0</td>\n",
       "      <td>13.0</td>\n",
       "      <td>86.0</td>\n",
       "      <td>2.0</td>\n",
       "    </tr>\n",
       "  </tbody>\n",
       "</table>\n",
       "</div>"
      ],
      "text/plain": [
       "        wer       mer       wil       wip  hits  substitutions  deletions  \\\n",
       "0  0.515306  0.510101  0.571383  0.428617  97.0           13.0       86.0   \n",
       "\n",
       "   insertions  \n",
       "0         2.0  "
      ]
     },
     "metadata": {},
     "output_type": "display_data"
    },
    {
     "name": "stdout",
     "output_type": "stream",
     "text": [
      "==================================\n",
      "../Exemples/Dictee/IMG_20210329_122828.jpg\n"
     ]
    },
    {
     "data": {
      "text/html": [
       "<div>\n",
       "<style scoped>\n",
       "    .dataframe tbody tr th:only-of-type {\n",
       "        vertical-align: middle;\n",
       "    }\n",
       "\n",
       "    .dataframe tbody tr th {\n",
       "        vertical-align: top;\n",
       "    }\n",
       "\n",
       "    .dataframe thead th {\n",
       "        text-align: right;\n",
       "    }\n",
       "</style>\n",
       "<table border=\"1\" class=\"dataframe\">\n",
       "  <thead>\n",
       "    <tr style=\"text-align: right;\">\n",
       "      <th></th>\n",
       "      <th>wer</th>\n",
       "      <th>mer</th>\n",
       "      <th>wil</th>\n",
       "      <th>wip</th>\n",
       "      <th>hits</th>\n",
       "      <th>substitutions</th>\n",
       "      <th>deletions</th>\n",
       "      <th>insertions</th>\n",
       "    </tr>\n",
       "  </thead>\n",
       "  <tbody>\n",
       "    <tr>\n",
       "      <th>0</th>\n",
       "      <td>0.076531</td>\n",
       "      <td>0.076531</td>\n",
       "      <td>0.147204</td>\n",
       "      <td>0.852796</td>\n",
       "      <td>181.0</td>\n",
       "      <td>15.0</td>\n",
       "      <td>0.0</td>\n",
       "      <td>0.0</td>\n",
       "    </tr>\n",
       "  </tbody>\n",
       "</table>\n",
       "</div>"
      ],
      "text/plain": [
       "        wer       mer       wil       wip   hits  substitutions  deletions  \\\n",
       "0  0.076531  0.076531  0.147204  0.852796  181.0           15.0        0.0   \n",
       "\n",
       "   insertions  \n",
       "0         0.0  "
      ]
     },
     "metadata": {},
     "output_type": "display_data"
    },
    {
     "data": {
      "text/html": [
       "<div>\n",
       "<style scoped>\n",
       "    .dataframe tbody tr th:only-of-type {\n",
       "        vertical-align: middle;\n",
       "    }\n",
       "\n",
       "    .dataframe tbody tr th {\n",
       "        vertical-align: top;\n",
       "    }\n",
       "\n",
       "    .dataframe thead th {\n",
       "        text-align: right;\n",
       "    }\n",
       "</style>\n",
       "<table border=\"1\" class=\"dataframe\">\n",
       "  <thead>\n",
       "    <tr style=\"text-align: right;\">\n",
       "      <th></th>\n",
       "      <th>wer</th>\n",
       "      <th>mer</th>\n",
       "      <th>wil</th>\n",
       "      <th>wip</th>\n",
       "      <th>hits</th>\n",
       "      <th>substitutions</th>\n",
       "      <th>deletions</th>\n",
       "      <th>insertions</th>\n",
       "    </tr>\n",
       "  </thead>\n",
       "  <tbody>\n",
       "    <tr>\n",
       "      <th>0</th>\n",
       "      <td>0.903061</td>\n",
       "      <td>0.903061</td>\n",
       "      <td>0.936488</td>\n",
       "      <td>0.063512</td>\n",
       "      <td>19.0</td>\n",
       "      <td>10.0</td>\n",
       "      <td>167.0</td>\n",
       "      <td>0.0</td>\n",
       "    </tr>\n",
       "  </tbody>\n",
       "</table>\n",
       "</div>"
      ],
      "text/plain": [
       "        wer       mer       wil       wip  hits  substitutions  deletions  \\\n",
       "0  0.903061  0.903061  0.936488  0.063512  19.0           10.0      167.0   \n",
       "\n",
       "   insertions  \n",
       "0         0.0  "
      ]
     },
     "metadata": {},
     "output_type": "display_data"
    },
    {
     "name": "stdout",
     "output_type": "stream",
     "text": [
      "==================================\n"
     ]
    }
   ],
   "source": [
    "truth_path = '../Exemples/truth/dictee.txt'\n",
    "\n",
    "for file in dictee_files:\n",
    "    print(file)\n",
    "    compare_df = compare_score(file, truth_path, show_txt=False)\n",
    "    print('==================================')"
   ]
  },
  {
   "cell_type": "code",
   "execution_count": 11,
   "id": "timely-counter",
   "metadata": {},
   "outputs": [],
   "source": [
    "hist_geo_files = [f for f in all_files if 'Histoire_Geo' in f]"
   ]
  },
  {
   "cell_type": "code",
   "execution_count": 12,
   "id": "differential-consciousness",
   "metadata": {
    "scrolled": false
   },
   "outputs": [
    {
     "name": "stdout",
     "output_type": "stream",
     "text": [
      "../Exemples/Histoire_Geo/IMG_20210329_122543.jpg\n"
     ]
    },
    {
     "data": {
      "text/html": [
       "<div>\n",
       "<style scoped>\n",
       "    .dataframe tbody tr th:only-of-type {\n",
       "        vertical-align: middle;\n",
       "    }\n",
       "\n",
       "    .dataframe tbody tr th {\n",
       "        vertical-align: top;\n",
       "    }\n",
       "\n",
       "    .dataframe thead th {\n",
       "        text-align: right;\n",
       "    }\n",
       "</style>\n",
       "<table border=\"1\" class=\"dataframe\">\n",
       "  <thead>\n",
       "    <tr style=\"text-align: right;\">\n",
       "      <th></th>\n",
       "      <th>wer</th>\n",
       "      <th>mer</th>\n",
       "      <th>wil</th>\n",
       "      <th>wip</th>\n",
       "      <th>hits</th>\n",
       "      <th>substitutions</th>\n",
       "      <th>deletions</th>\n",
       "      <th>insertions</th>\n",
       "    </tr>\n",
       "  </thead>\n",
       "  <tbody>\n",
       "    <tr>\n",
       "      <th>0</th>\n",
       "      <td>0.643678</td>\n",
       "      <td>0.491228</td>\n",
       "      <td>0.648485</td>\n",
       "      <td>0.351515</td>\n",
       "      <td>58.0</td>\n",
       "      <td>25.0</td>\n",
       "      <td>4.0</td>\n",
       "      <td>27.0</td>\n",
       "    </tr>\n",
       "  </tbody>\n",
       "</table>\n",
       "</div>"
      ],
      "text/plain": [
       "        wer       mer       wil       wip  hits  substitutions  deletions  \\\n",
       "0  0.643678  0.491228  0.648485  0.351515  58.0           25.0        4.0   \n",
       "\n",
       "   insertions  \n",
       "0        27.0  "
      ]
     },
     "metadata": {},
     "output_type": "display_data"
    },
    {
     "data": {
      "text/html": [
       "<div>\n",
       "<style scoped>\n",
       "    .dataframe tbody tr th:only-of-type {\n",
       "        vertical-align: middle;\n",
       "    }\n",
       "\n",
       "    .dataframe tbody tr th {\n",
       "        vertical-align: top;\n",
       "    }\n",
       "\n",
       "    .dataframe thead th {\n",
       "        text-align: right;\n",
       "    }\n",
       "</style>\n",
       "<table border=\"1\" class=\"dataframe\">\n",
       "  <thead>\n",
       "    <tr style=\"text-align: right;\">\n",
       "      <th></th>\n",
       "      <th>wer</th>\n",
       "      <th>mer</th>\n",
       "      <th>wil</th>\n",
       "      <th>wip</th>\n",
       "      <th>hits</th>\n",
       "      <th>substitutions</th>\n",
       "      <th>deletions</th>\n",
       "      <th>insertions</th>\n",
       "    </tr>\n",
       "  </thead>\n",
       "  <tbody>\n",
       "    <tr>\n",
       "      <th>0</th>\n",
       "      <td>0.528736</td>\n",
       "      <td>0.516854</td>\n",
       "      <td>0.547811</td>\n",
       "      <td>0.452189</td>\n",
       "      <td>43.0</td>\n",
       "      <td>2.0</td>\n",
       "      <td>42.0</td>\n",
       "      <td>2.0</td>\n",
       "    </tr>\n",
       "  </tbody>\n",
       "</table>\n",
       "</div>"
      ],
      "text/plain": [
       "        wer       mer       wil       wip  hits  substitutions  deletions  \\\n",
       "0  0.528736  0.516854  0.547811  0.452189  43.0            2.0       42.0   \n",
       "\n",
       "   insertions  \n",
       "0         2.0  "
      ]
     },
     "metadata": {},
     "output_type": "display_data"
    },
    {
     "data": {
      "text/plain": [
       "None"
      ]
     },
     "metadata": {},
     "output_type": "display_data"
    },
    {
     "name": "stdout",
     "output_type": "stream",
     "text": [
      "==================================\n",
      "../Exemples/Histoire_Geo/IMG_20210329_123005.jpg\n"
     ]
    },
    {
     "data": {
      "text/html": [
       "<div>\n",
       "<style scoped>\n",
       "    .dataframe tbody tr th:only-of-type {\n",
       "        vertical-align: middle;\n",
       "    }\n",
       "\n",
       "    .dataframe tbody tr th {\n",
       "        vertical-align: top;\n",
       "    }\n",
       "\n",
       "    .dataframe thead th {\n",
       "        text-align: right;\n",
       "    }\n",
       "</style>\n",
       "<table border=\"1\" class=\"dataframe\">\n",
       "  <thead>\n",
       "    <tr style=\"text-align: right;\">\n",
       "      <th></th>\n",
       "      <th>wer</th>\n",
       "      <th>mer</th>\n",
       "      <th>wil</th>\n",
       "      <th>wip</th>\n",
       "      <th>hits</th>\n",
       "      <th>substitutions</th>\n",
       "      <th>deletions</th>\n",
       "      <th>insertions</th>\n",
       "    </tr>\n",
       "  </thead>\n",
       "  <tbody>\n",
       "    <tr>\n",
       "      <th>0</th>\n",
       "      <td>0.436782</td>\n",
       "      <td>0.436782</td>\n",
       "      <td>0.479289</td>\n",
       "      <td>0.520711</td>\n",
       "      <td>49.0</td>\n",
       "      <td>4.0</td>\n",
       "      <td>34.0</td>\n",
       "      <td>0.0</td>\n",
       "    </tr>\n",
       "  </tbody>\n",
       "</table>\n",
       "</div>"
      ],
      "text/plain": [
       "        wer       mer       wil       wip  hits  substitutions  deletions  \\\n",
       "0  0.436782  0.436782  0.479289  0.520711  49.0            4.0       34.0   \n",
       "\n",
       "   insertions  \n",
       "0         0.0  "
      ]
     },
     "metadata": {},
     "output_type": "display_data"
    },
    {
     "data": {
      "text/html": [
       "<div>\n",
       "<style scoped>\n",
       "    .dataframe tbody tr th:only-of-type {\n",
       "        vertical-align: middle;\n",
       "    }\n",
       "\n",
       "    .dataframe tbody tr th {\n",
       "        vertical-align: top;\n",
       "    }\n",
       "\n",
       "    .dataframe thead th {\n",
       "        text-align: right;\n",
       "    }\n",
       "</style>\n",
       "<table border=\"1\" class=\"dataframe\">\n",
       "  <thead>\n",
       "    <tr style=\"text-align: right;\">\n",
       "      <th></th>\n",
       "      <th>wer</th>\n",
       "      <th>mer</th>\n",
       "      <th>wil</th>\n",
       "      <th>wip</th>\n",
       "      <th>hits</th>\n",
       "      <th>substitutions</th>\n",
       "      <th>deletions</th>\n",
       "      <th>insertions</th>\n",
       "    </tr>\n",
       "  </thead>\n",
       "  <tbody>\n",
       "    <tr>\n",
       "      <th>0</th>\n",
       "      <td>0.37931</td>\n",
       "      <td>0.37931</td>\n",
       "      <td>0.431911</td>\n",
       "      <td>0.568089</td>\n",
       "      <td>54.0</td>\n",
       "      <td>5.0</td>\n",
       "      <td>28.0</td>\n",
       "      <td>0.0</td>\n",
       "    </tr>\n",
       "  </tbody>\n",
       "</table>\n",
       "</div>"
      ],
      "text/plain": [
       "       wer      mer       wil       wip  hits  substitutions  deletions  \\\n",
       "0  0.37931  0.37931  0.431911  0.568089  54.0            5.0       28.0   \n",
       "\n",
       "   insertions  \n",
       "0         0.0  "
      ]
     },
     "metadata": {},
     "output_type": "display_data"
    },
    {
     "data": {
      "text/plain": [
       "None"
      ]
     },
     "metadata": {},
     "output_type": "display_data"
    },
    {
     "name": "stdout",
     "output_type": "stream",
     "text": [
      "==================================\n",
      "../Exemples/Histoire_Geo/IMG_20210329_122940.jpg\n",
      "{'error': {'code': 'IMAGE_BLURRY', 'message': 'The image sent by the user is considered to be blurry'}}\n"
     ]
    },
    {
     "data": {
      "text/plain": [
       "None"
      ]
     },
     "metadata": {},
     "output_type": "display_data"
    },
    {
     "name": "stdout",
     "output_type": "stream",
     "text": [
      "==================================\n",
      "../Exemples/Histoire_Geo/IMG_20210329_123000.jpg\n"
     ]
    },
    {
     "data": {
      "text/html": [
       "<div>\n",
       "<style scoped>\n",
       "    .dataframe tbody tr th:only-of-type {\n",
       "        vertical-align: middle;\n",
       "    }\n",
       "\n",
       "    .dataframe tbody tr th {\n",
       "        vertical-align: top;\n",
       "    }\n",
       "\n",
       "    .dataframe thead th {\n",
       "        text-align: right;\n",
       "    }\n",
       "</style>\n",
       "<table border=\"1\" class=\"dataframe\">\n",
       "  <thead>\n",
       "    <tr style=\"text-align: right;\">\n",
       "      <th></th>\n",
       "      <th>wer</th>\n",
       "      <th>mer</th>\n",
       "      <th>wil</th>\n",
       "      <th>wip</th>\n",
       "      <th>hits</th>\n",
       "      <th>substitutions</th>\n",
       "      <th>deletions</th>\n",
       "      <th>insertions</th>\n",
       "    </tr>\n",
       "  </thead>\n",
       "  <tbody>\n",
       "    <tr>\n",
       "      <th>0</th>\n",
       "      <td>0.264368</td>\n",
       "      <td>0.232323</td>\n",
       "      <td>0.322543</td>\n",
       "      <td>0.677457</td>\n",
       "      <td>76.0</td>\n",
       "      <td>10.0</td>\n",
       "      <td>1.0</td>\n",
       "      <td>12.0</td>\n",
       "    </tr>\n",
       "  </tbody>\n",
       "</table>\n",
       "</div>"
      ],
      "text/plain": [
       "        wer       mer       wil       wip  hits  substitutions  deletions  \\\n",
       "0  0.264368  0.232323  0.322543  0.677457  76.0           10.0        1.0   \n",
       "\n",
       "   insertions  \n",
       "0        12.0  "
      ]
     },
     "metadata": {},
     "output_type": "display_data"
    },
    {
     "data": {
      "text/html": [
       "<div>\n",
       "<style scoped>\n",
       "    .dataframe tbody tr th:only-of-type {\n",
       "        vertical-align: middle;\n",
       "    }\n",
       "\n",
       "    .dataframe tbody tr th {\n",
       "        vertical-align: top;\n",
       "    }\n",
       "\n",
       "    .dataframe thead th {\n",
       "        text-align: right;\n",
       "    }\n",
       "</style>\n",
       "<table border=\"1\" class=\"dataframe\">\n",
       "  <thead>\n",
       "    <tr style=\"text-align: right;\">\n",
       "      <th></th>\n",
       "      <th>wer</th>\n",
       "      <th>mer</th>\n",
       "      <th>wil</th>\n",
       "      <th>wip</th>\n",
       "      <th>hits</th>\n",
       "      <th>substitutions</th>\n",
       "      <th>deletions</th>\n",
       "      <th>insertions</th>\n",
       "    </tr>\n",
       "  </thead>\n",
       "  <tbody>\n",
       "    <tr>\n",
       "      <th>0</th>\n",
       "      <td>0.252874</td>\n",
       "      <td>0.22</td>\n",
       "      <td>0.293626</td>\n",
       "      <td>0.706374</td>\n",
       "      <td>78.0</td>\n",
       "      <td>8.0</td>\n",
       "      <td>1.0</td>\n",
       "      <td>13.0</td>\n",
       "    </tr>\n",
       "  </tbody>\n",
       "</table>\n",
       "</div>"
      ],
      "text/plain": [
       "        wer   mer       wil       wip  hits  substitutions  deletions  \\\n",
       "0  0.252874  0.22  0.293626  0.706374  78.0            8.0        1.0   \n",
       "\n",
       "   insertions  \n",
       "0        13.0  "
      ]
     },
     "metadata": {},
     "output_type": "display_data"
    },
    {
     "data": {
      "text/plain": [
       "None"
      ]
     },
     "metadata": {},
     "output_type": "display_data"
    },
    {
     "name": "stdout",
     "output_type": "stream",
     "text": [
      "==================================\n",
      "../Exemples/Histoire_Geo/IMG_20210329_122932.jpg\n"
     ]
    },
    {
     "data": {
      "text/html": [
       "<div>\n",
       "<style scoped>\n",
       "    .dataframe tbody tr th:only-of-type {\n",
       "        vertical-align: middle;\n",
       "    }\n",
       "\n",
       "    .dataframe tbody tr th {\n",
       "        vertical-align: top;\n",
       "    }\n",
       "\n",
       "    .dataframe thead th {\n",
       "        text-align: right;\n",
       "    }\n",
       "</style>\n",
       "<table border=\"1\" class=\"dataframe\">\n",
       "  <thead>\n",
       "    <tr style=\"text-align: right;\">\n",
       "      <th></th>\n",
       "      <th>wer</th>\n",
       "      <th>mer</th>\n",
       "      <th>wil</th>\n",
       "      <th>wip</th>\n",
       "      <th>hits</th>\n",
       "      <th>substitutions</th>\n",
       "      <th>deletions</th>\n",
       "      <th>insertions</th>\n",
       "    </tr>\n",
       "  </thead>\n",
       "  <tbody>\n",
       "    <tr>\n",
       "      <th>0</th>\n",
       "      <td>0.172414</td>\n",
       "      <td>0.170455</td>\n",
       "      <td>0.253014</td>\n",
       "      <td>0.746986</td>\n",
       "      <td>73.0</td>\n",
       "      <td>8.0</td>\n",
       "      <td>6.0</td>\n",
       "      <td>1.0</td>\n",
       "    </tr>\n",
       "  </tbody>\n",
       "</table>\n",
       "</div>"
      ],
      "text/plain": [
       "        wer       mer       wil       wip  hits  substitutions  deletions  \\\n",
       "0  0.172414  0.170455  0.253014  0.746986  73.0            8.0        6.0   \n",
       "\n",
       "   insertions  \n",
       "0         1.0  "
      ]
     },
     "metadata": {},
     "output_type": "display_data"
    },
    {
     "data": {
      "text/html": [
       "<div>\n",
       "<style scoped>\n",
       "    .dataframe tbody tr th:only-of-type {\n",
       "        vertical-align: middle;\n",
       "    }\n",
       "\n",
       "    .dataframe tbody tr th {\n",
       "        vertical-align: top;\n",
       "    }\n",
       "\n",
       "    .dataframe thead th {\n",
       "        text-align: right;\n",
       "    }\n",
       "</style>\n",
       "<table border=\"1\" class=\"dataframe\">\n",
       "  <thead>\n",
       "    <tr style=\"text-align: right;\">\n",
       "      <th></th>\n",
       "      <th>wer</th>\n",
       "      <th>mer</th>\n",
       "      <th>wil</th>\n",
       "      <th>wip</th>\n",
       "      <th>hits</th>\n",
       "      <th>substitutions</th>\n",
       "      <th>deletions</th>\n",
       "      <th>insertions</th>\n",
       "    </tr>\n",
       "  </thead>\n",
       "  <tbody>\n",
       "    <tr>\n",
       "      <th>0</th>\n",
       "      <td>0.103448</td>\n",
       "      <td>0.101124</td>\n",
       "      <td>0.164054</td>\n",
       "      <td>0.835946</td>\n",
       "      <td>80.0</td>\n",
       "      <td>6.0</td>\n",
       "      <td>1.0</td>\n",
       "      <td>2.0</td>\n",
       "    </tr>\n",
       "  </tbody>\n",
       "</table>\n",
       "</div>"
      ],
      "text/plain": [
       "        wer       mer       wil       wip  hits  substitutions  deletions  \\\n",
       "0  0.103448  0.101124  0.164054  0.835946  80.0            6.0        1.0   \n",
       "\n",
       "   insertions  \n",
       "0         2.0  "
      ]
     },
     "metadata": {},
     "output_type": "display_data"
    },
    {
     "data": {
      "text/plain": [
       "None"
      ]
     },
     "metadata": {},
     "output_type": "display_data"
    },
    {
     "name": "stdout",
     "output_type": "stream",
     "text": [
      "==================================\n",
      "../Exemples/Histoire_Geo/IMG_20210329_122524.jpg\n"
     ]
    },
    {
     "data": {
      "text/html": [
       "<div>\n",
       "<style scoped>\n",
       "    .dataframe tbody tr th:only-of-type {\n",
       "        vertical-align: middle;\n",
       "    }\n",
       "\n",
       "    .dataframe tbody tr th {\n",
       "        vertical-align: top;\n",
       "    }\n",
       "\n",
       "    .dataframe thead th {\n",
       "        text-align: right;\n",
       "    }\n",
       "</style>\n",
       "<table border=\"1\" class=\"dataframe\">\n",
       "  <thead>\n",
       "    <tr style=\"text-align: right;\">\n",
       "      <th></th>\n",
       "      <th>wer</th>\n",
       "      <th>mer</th>\n",
       "      <th>wil</th>\n",
       "      <th>wip</th>\n",
       "      <th>hits</th>\n",
       "      <th>substitutions</th>\n",
       "      <th>deletions</th>\n",
       "      <th>insertions</th>\n",
       "    </tr>\n",
       "  </thead>\n",
       "  <tbody>\n",
       "    <tr>\n",
       "      <th>0</th>\n",
       "      <td>0.321839</td>\n",
       "      <td>0.321839</td>\n",
       "      <td>0.444285</td>\n",
       "      <td>0.555715</td>\n",
       "      <td>59.0</td>\n",
       "      <td>13.0</td>\n",
       "      <td>15.0</td>\n",
       "      <td>0.0</td>\n",
       "    </tr>\n",
       "  </tbody>\n",
       "</table>\n",
       "</div>"
      ],
      "text/plain": [
       "        wer       mer       wil       wip  hits  substitutions  deletions  \\\n",
       "0  0.321839  0.321839  0.444285  0.555715  59.0           13.0       15.0   \n",
       "\n",
       "   insertions  \n",
       "0         0.0  "
      ]
     },
     "metadata": {},
     "output_type": "display_data"
    },
    {
     "data": {
      "text/html": [
       "<div>\n",
       "<style scoped>\n",
       "    .dataframe tbody tr th:only-of-type {\n",
       "        vertical-align: middle;\n",
       "    }\n",
       "\n",
       "    .dataframe tbody tr th {\n",
       "        vertical-align: top;\n",
       "    }\n",
       "\n",
       "    .dataframe thead th {\n",
       "        text-align: right;\n",
       "    }\n",
       "</style>\n",
       "<table border=\"1\" class=\"dataframe\">\n",
       "  <thead>\n",
       "    <tr style=\"text-align: right;\">\n",
       "      <th></th>\n",
       "      <th>wer</th>\n",
       "      <th>mer</th>\n",
       "      <th>wil</th>\n",
       "      <th>wip</th>\n",
       "      <th>hits</th>\n",
       "      <th>substitutions</th>\n",
       "      <th>deletions</th>\n",
       "      <th>insertions</th>\n",
       "    </tr>\n",
       "  </thead>\n",
       "  <tbody>\n",
       "    <tr>\n",
       "      <th>0</th>\n",
       "      <td>0.321839</td>\n",
       "      <td>0.318182</td>\n",
       "      <td>0.482759</td>\n",
       "      <td>0.517241</td>\n",
       "      <td>60.0</td>\n",
       "      <td>19.0</td>\n",
       "      <td>8.0</td>\n",
       "      <td>1.0</td>\n",
       "    </tr>\n",
       "  </tbody>\n",
       "</table>\n",
       "</div>"
      ],
      "text/plain": [
       "        wer       mer       wil       wip  hits  substitutions  deletions  \\\n",
       "0  0.321839  0.318182  0.482759  0.517241  60.0           19.0        8.0   \n",
       "\n",
       "   insertions  \n",
       "0         1.0  "
      ]
     },
     "metadata": {},
     "output_type": "display_data"
    },
    {
     "data": {
      "text/plain": [
       "None"
      ]
     },
     "metadata": {},
     "output_type": "display_data"
    },
    {
     "name": "stdout",
     "output_type": "stream",
     "text": [
      "==================================\n",
      "../Exemples/Histoire_Geo/IMG_20210329_122536.jpg\n"
     ]
    },
    {
     "data": {
      "text/html": [
       "<div>\n",
       "<style scoped>\n",
       "    .dataframe tbody tr th:only-of-type {\n",
       "        vertical-align: middle;\n",
       "    }\n",
       "\n",
       "    .dataframe tbody tr th {\n",
       "        vertical-align: top;\n",
       "    }\n",
       "\n",
       "    .dataframe thead th {\n",
       "        text-align: right;\n",
       "    }\n",
       "</style>\n",
       "<table border=\"1\" class=\"dataframe\">\n",
       "  <thead>\n",
       "    <tr style=\"text-align: right;\">\n",
       "      <th></th>\n",
       "      <th>wer</th>\n",
       "      <th>mer</th>\n",
       "      <th>wil</th>\n",
       "      <th>wip</th>\n",
       "      <th>hits</th>\n",
       "      <th>substitutions</th>\n",
       "      <th>deletions</th>\n",
       "      <th>insertions</th>\n",
       "    </tr>\n",
       "  </thead>\n",
       "  <tbody>\n",
       "    <tr>\n",
       "      <th>0</th>\n",
       "      <td>0.195402</td>\n",
       "      <td>0.173469</td>\n",
       "      <td>0.21444</td>\n",
       "      <td>0.78556</td>\n",
       "      <td>81.0</td>\n",
       "      <td>4.0</td>\n",
       "      <td>2.0</td>\n",
       "      <td>11.0</td>\n",
       "    </tr>\n",
       "  </tbody>\n",
       "</table>\n",
       "</div>"
      ],
      "text/plain": [
       "        wer       mer      wil      wip  hits  substitutions  deletions  \\\n",
       "0  0.195402  0.173469  0.21444  0.78556  81.0            4.0        2.0   \n",
       "\n",
       "   insertions  \n",
       "0        11.0  "
      ]
     },
     "metadata": {},
     "output_type": "display_data"
    },
    {
     "data": {
      "text/html": [
       "<div>\n",
       "<style scoped>\n",
       "    .dataframe tbody tr th:only-of-type {\n",
       "        vertical-align: middle;\n",
       "    }\n",
       "\n",
       "    .dataframe tbody tr th {\n",
       "        vertical-align: top;\n",
       "    }\n",
       "\n",
       "    .dataframe thead th {\n",
       "        text-align: right;\n",
       "    }\n",
       "</style>\n",
       "<table border=\"1\" class=\"dataframe\">\n",
       "  <thead>\n",
       "    <tr style=\"text-align: right;\">\n",
       "      <th></th>\n",
       "      <th>wer</th>\n",
       "      <th>mer</th>\n",
       "      <th>wil</th>\n",
       "      <th>wip</th>\n",
       "      <th>hits</th>\n",
       "      <th>substitutions</th>\n",
       "      <th>deletions</th>\n",
       "      <th>insertions</th>\n",
       "    </tr>\n",
       "  </thead>\n",
       "  <tbody>\n",
       "    <tr>\n",
       "      <th>0</th>\n",
       "      <td>0.321839</td>\n",
       "      <td>0.291667</td>\n",
       "      <td>0.409451</td>\n",
       "      <td>0.590549</td>\n",
       "      <td>68.0</td>\n",
       "      <td>13.0</td>\n",
       "      <td>6.0</td>\n",
       "      <td>9.0</td>\n",
       "    </tr>\n",
       "  </tbody>\n",
       "</table>\n",
       "</div>"
      ],
      "text/plain": [
       "        wer       mer       wil       wip  hits  substitutions  deletions  \\\n",
       "0  0.321839  0.291667  0.409451  0.590549  68.0           13.0        6.0   \n",
       "\n",
       "   insertions  \n",
       "0         9.0  "
      ]
     },
     "metadata": {},
     "output_type": "display_data"
    },
    {
     "data": {
      "text/plain": [
       "None"
      ]
     },
     "metadata": {},
     "output_type": "display_data"
    },
    {
     "name": "stdout",
     "output_type": "stream",
     "text": [
      "==================================\n"
     ]
    }
   ],
   "source": [
    "truth_path = '../Exemples/truth/hist_geo.txt'\n",
    "\n",
    "for file in hist_geo_files:\n",
    "    print(file)\n",
    "    compare_df = compare_score(file, truth_path, show_txt=False)\n",
    "    display(compare_df)\n",
    "    print('==================================')"
   ]
  },
  {
   "cell_type": "code",
   "execution_count": null,
   "id": "current-donor",
   "metadata": {},
   "outputs": [],
   "source": []
  }
 ],
 "metadata": {
  "kernelspec": {
   "display_name": "dyslexia",
   "language": "python",
   "name": "dyslexia"
  },
  "language_info": {
   "codemirror_mode": {
    "name": "ipython",
    "version": 3
   },
   "file_extension": ".py",
   "mimetype": "text/x-python",
   "name": "python",
   "nbconvert_exporter": "python",
   "pygments_lexer": "ipython3",
   "version": "3.8.5"
  }
 },
 "nbformat": 4,
 "nbformat_minor": 5
}
